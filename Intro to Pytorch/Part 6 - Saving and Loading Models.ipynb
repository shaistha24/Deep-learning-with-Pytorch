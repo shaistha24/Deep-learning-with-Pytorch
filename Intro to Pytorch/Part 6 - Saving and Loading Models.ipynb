{
 "cells": [
  {
   "cell_type": "markdown",
   "metadata": {},
   "source": [
    "# Saving and Loading Models\n",
    "\n",
    "In this notebook, I'll show you how to save and load models with PyTorch. This is important because you'll often want to load previously trained models to use in making predictions or to continue training on new data."
   ]
  },
  {
   "cell_type": "code",
   "execution_count": 1,
   "metadata": {},
   "outputs": [],
   "source": [
    "%matplotlib inline\n",
    "%config InlineBackend.figure_format = 'retina'\n",
    "\n",
    "import matplotlib.pyplot as plt\n",
    "\n",
    "import torch\n",
    "from torch import nn\n",
    "from torch import optim\n",
    "import torch.nn.functional as F\n",
    "from torchvision import datasets, transforms\n",
    "\n",
    "import helper\n",
    "import fc_model"
   ]
  },
  {
   "cell_type": "code",
   "execution_count": 2,
   "metadata": {},
   "outputs": [
    {
     "name": "stdout",
     "output_type": "stream",
     "text": [
      "Downloading http://fashion-mnist.s3-website.eu-central-1.amazonaws.com/train-images-idx3-ubyte.gz to C:\\Users\\SHAISTHA/.pytorch/F_MNIST_data/FashionMNIST\\raw\\train-images-idx3-ubyte.gz\n"
     ]
    },
    {
     "name": "stderr",
     "output_type": "stream",
     "text": [
      "100%|█████████████████████████████████████████████████████████████████▉| 26386432/26421880 [01:26<00:00, 411940.07it/s]"
     ]
    },
    {
     "name": "stdout",
     "output_type": "stream",
     "text": [
      "Extracting C:\\Users\\SHAISTHA/.pytorch/F_MNIST_data/FashionMNIST\\raw\\train-images-idx3-ubyte.gz\n",
      "Downloading http://fashion-mnist.s3-website.eu-central-1.amazonaws.com/train-labels-idx1-ubyte.gz to C:\\Users\\SHAISTHA/.pytorch/F_MNIST_data/FashionMNIST\\raw\\train-labels-idx1-ubyte.gz\n"
     ]
    },
    {
     "name": "stderr",
     "output_type": "stream",
     "text": [
      "\n",
      "0it [00:00, ?it/s]\n",
      "  0%|                                                                                        | 0/29515 [00:00<?, ?it/s]\n",
      " 56%|████████████████████████████████████████▌                                | 16384/29515 [00:00<00:00, 70576.92it/s]\n",
      "32768it [00:00, 38857.36it/s]                                                                                          "
     ]
    },
    {
     "name": "stdout",
     "output_type": "stream",
     "text": [
      "Extracting C:\\Users\\SHAISTHA/.pytorch/F_MNIST_data/FashionMNIST\\raw\\train-labels-idx1-ubyte.gz\n",
      "Downloading http://fashion-mnist.s3-website.eu-central-1.amazonaws.com/t10k-images-idx3-ubyte.gz to C:\\Users\\SHAISTHA/.pytorch/F_MNIST_data/FashionMNIST\\raw\\t10k-images-idx3-ubyte.gz\n"
     ]
    },
    {
     "name": "stderr",
     "output_type": "stream",
     "text": [
      "\n",
      "0it [00:00, ?it/s]\n",
      "  0%|                                                                                      | 0/4422102 [00:00<?, ?it/s]\n",
      "  0%|▎                                                                      | 16384/4422102 [00:00<01:20, 54521.48it/s]\n",
      "  1%|▊                                                                      | 49152/4422102 [00:00<01:04, 67934.23it/s]\n",
      "  2%|█▍                                                                     | 90112/4422102 [00:01<00:47, 90325.45it/s]\n",
      "  2%|█▋                                                                   | 106496/4422102 [00:01<00:41, 103349.12it/s]\n",
      "  3%|██▎                                                                  | 147456/4422102 [00:01<00:32, 132988.11it/s]\n",
      "  4%|███                                                                  | 196608/4422102 [00:01<00:25, 167762.98it/s]\n",
      "  6%|███▊                                                                 | 245760/4422102 [00:01<00:20, 205952.90it/s]\n",
      "  7%|████▌                                                                | 294912/4422102 [00:01<00:16, 248262.13it/s]\n",
      "  8%|█████▎                                                               | 344064/4422102 [00:01<00:14, 282312.94it/s]\n",
      "  9%|██████                                                               | 385024/4422102 [00:01<00:12, 311185.47it/s]\n",
      " 10%|██████▊                                                              | 434176/4422102 [00:01<00:11, 337527.16it/s]\n",
      " 11%|███████▌                                                             | 483328/4422102 [00:02<00:10, 358759.24it/s]\n",
      " 12%|████████▏                                                            | 524288/4422102 [00:02<00:21, 181531.19it/s]\n",
      " 13%|████████▉                                                            | 573440/4422102 [00:02<00:17, 219853.04it/s]\n",
      " 16%|███████████                                                          | 712704/4422102 [00:02<00:12, 291110.67it/s]\n",
      " 19%|█████████████▏                                                       | 843776/4422102 [00:02<00:09, 374102.85it/s]\n",
      " 21%|██████████████▍                                                      | 925696/4422102 [00:03<00:12, 269745.49it/s]\n",
      " 22%|███████████████▍                                                     | 991232/4422102 [00:03<00:11, 308540.43it/s]\n",
      " 26%|█████████████████▉                                                  | 1163264/4422102 [00:03<00:07, 407765.85it/s]\n",
      " 28%|███████████████████▎                                                | 1253376/4422102 [00:03<00:07, 410299.69it/s]\n",
      " 30%|████████████████████▍                                               | 1327104/4422102 [00:04<00:07, 419387.64it/s]\n",
      " 31%|█████████████████████▍                                              | 1392640/4422102 [00:04<00:07, 423592.98it/s]\n",
      " 33%|██████████████████████▍                                             | 1458176/4422102 [00:04<00:06, 424989.70it/s]\n",
      " 34%|███████████████████████▎                                            | 1515520/4422102 [00:04<00:08, 345883.24it/s]\n",
      " 36%|████████████████████████▋                                           | 1605632/4422102 [00:04<00:07, 375303.93it/s]\n",
      " 37%|█████████████████████████▍                                          | 1654784/4422102 [00:04<00:07, 382761.81it/s]\n",
      " 39%|██████████████████████████▏                                         | 1703936/4422102 [00:05<00:12, 219660.37it/s]\n",
      " 43%|█████████████████████████████▏                                      | 1900544/4422102 [00:05<00:08, 296747.04it/s]\n",
      " 45%|██████████████████████████████▎                                     | 1974272/4422102 [00:05<00:07, 324561.78it/s]\n",
      " 46%|███████████████████████████████▎                                    | 2039808/4422102 [00:05<00:06, 349814.38it/s]\n",
      " 47%|████████████████████████████████▏                                   | 2097152/4422102 [00:05<00:06, 374544.33it/s]\n",
      " 49%|█████████████████████████████████▏                                  | 2154496/4422102 [00:06<00:05, 386891.75it/s]\n",
      " 50%|██████████████████████████████████                                  | 2211840/4422102 [00:06<00:05, 394641.63it/s]\n",
      " 51%|██████████████████████████████████▊                                 | 2260992/4422102 [00:06<00:05, 407222.09it/s]\n",
      " 52%|███████████████████████████████████▌                                | 2310144/4422102 [00:06<00:05, 411599.64it/s]\n",
      " 53%|████████████████████████████████████▎                               | 2359296/4422102 [00:06<00:04, 417250.53it/s]\n",
      " 54%|█████████████████████████████████████                               | 2408448/4422102 [00:06<00:04, 415273.68it/s]\n",
      " 56%|█████████████████████████████████████▊                              | 2457600/4422102 [00:06<00:04, 431394.38it/s]\n",
      " 57%|██████████████████████████████████████▌                             | 2506752/4422102 [00:06<00:04, 414186.26it/s]\n",
      " 58%|███████████████████████████████████████▎                            | 2555904/4422102 [00:07<00:07, 258061.68it/s]\n",
      " 61%|█████████████████████████████████████████▋                          | 2711552/4422102 [00:07<00:05, 341332.29it/s]\n",
      " 63%|██████████████████████████████████████████▋                         | 2777088/4422102 [00:07<00:05, 286392.91it/s]\n",
      " 64%|███████████████████████████████████████████▌                        | 2834432/4422102 [00:07<00:06, 260612.99it/s]\n",
      " 66%|████████████████████████████████████████████▌                       | 2899968/4422102 [00:08<00:04, 316835.19it/s]\n",
      " 67%|█████████████████████████████████████████████▎                      | 2949120/4422102 [00:08<00:04, 310547.22it/s]\n",
      " 68%|██████████████████████████████████████████████                      | 2998272/4422102 [00:08<00:04, 340351.32it/s]\n",
      " 69%|██████████████████████████████████████████████▊                     | 3047424/4422102 [00:08<00:03, 369306.79it/s]\n",
      " 70%|███████████████████████████████████████████████▌                    | 3096576/4422102 [00:08<00:03, 384714.18it/s]\n",
      " 71%|████████████████████████████████████████████████▎                   | 3145728/4422102 [00:08<00:03, 379813.50it/s]\n",
      " 72%|█████████████████████████████████████████████████▎                  | 3203072/4422102 [00:08<00:02, 407182.86it/s]\n",
      " 74%|██████████████████████████████████████████████████                  | 3252224/4422102 [00:08<00:02, 416237.56it/s]\n",
      " 75%|██████████████████████████████████████████████████▊                 | 3301376/4422102 [00:08<00:02, 417750.78it/s]\n",
      " 76%|███████████████████████████████████████████████████▌                | 3350528/4422102 [00:09<00:02, 420855.47it/s]\n",
      " 77%|████████████████████████████████████████████████████▎               | 3399680/4422102 [00:09<00:02, 418546.37it/s]\n",
      " 78%|█████████████████████████████████████████████████████               | 3448832/4422102 [00:09<00:02, 416386.70it/s]\n",
      " 79%|█████████████████████████████████████████████████████▊              | 3497984/4422102 [00:09<00:02, 424462.22it/s]\n",
      " 80%|██████████████████████████████████████████████████████▌             | 3547136/4422102 [00:09<00:02, 432451.94it/s]\n",
      " 81%|███████████████████████████████████████████████████████▎            | 3596288/4422102 [00:09<00:01, 429991.39it/s]\n",
      " 82%|████████████████████████████████████████████████████████            | 3645440/4422102 [00:09<00:01, 430026.86it/s]\n",
      " 84%|████████████████████████████████████████████████████████▊           | 3694592/4422102 [00:09<00:01, 430467.09it/s]\n",
      " 85%|█████████████████████████████████████████████████████████▌          | 3743744/4422102 [00:10<00:01, 409574.68it/s]\n",
      " 86%|██████████████████████████████████████████████████████████▎         | 3792896/4422102 [00:10<00:01, 408798.32it/s]\n",
      " 87%|███████████████████████████████████████████████████████████         | 3842048/4422102 [00:10<00:01, 412663.37it/s]\n",
      " 88%|███████████████████████████████████████████████████████████▊        | 3891200/4422102 [00:10<00:01, 284589.70it/s]\n",
      " 90%|█████████████████████████████████████████████████████████████▎      | 3989504/4422102 [00:10<00:01, 294157.93it/s]\n",
      " 92%|██████████████████████████████████████████████████████████████▌     | 4071424/4422102 [00:10<00:00, 361906.42it/s]\n",
      "26427392it [01:39, 411940.07it/s]                                                                                      \n"
     ]
    },
    {
     "name": "stderr",
     "output_type": "stream",
     "text": [
      " 94%|████████████████████████████████████████████████████████████████    | 4169728/4422102 [00:11<00:00, 357028.59it/s]\n",
      " 95%|████████████████████████████████████████████████████████████████▊   | 4218880/4422102 [00:11<00:00, 359076.86it/s]\n",
      " 97%|█████████████████████████████████████████████████████████████████▊  | 4276224/4422102 [00:11<00:00, 390638.87it/s]\n",
      " 98%|██████████████████████████████████████████████████████████████████▌ | 4325376/4422102 [00:11<00:00, 400831.68it/s]\n",
      " 99%|███████████████████████████████████████████████████████████████████▎| 4374528/4422102 [00:11<00:00, 423617.81it/s]\n",
      "4423680it [00:11, 405597.36it/s]                                                                                       "
     ]
    },
    {
     "name": "stdout",
     "output_type": "stream",
     "text": [
      "Extracting C:\\Users\\SHAISTHA/.pytorch/F_MNIST_data/FashionMNIST\\raw\\t10k-images-idx3-ubyte.gz\n",
      "Downloading http://fashion-mnist.s3-website.eu-central-1.amazonaws.com/t10k-labels-idx1-ubyte.gz to C:\\Users\\SHAISTHA/.pytorch/F_MNIST_data/FashionMNIST\\raw\\t10k-labels-idx1-ubyte.gz\n"
     ]
    },
    {
     "name": "stderr",
     "output_type": "stream",
     "text": [
      "\n",
      "\n",
      "0it [00:00, ?it/s]\n",
      "\n",
      "  0%|                                                                                         | 0/5148 [00:00<?, ?it/s]\n",
      "\n",
      "8192it [00:00, 11094.25it/s]                                                                                           "
     ]
    },
    {
     "name": "stdout",
     "output_type": "stream",
     "text": [
      "Extracting C:\\Users\\SHAISTHA/.pytorch/F_MNIST_data/FashionMNIST\\raw\\t10k-labels-idx1-ubyte.gz\n",
      "Processing...\n",
      "Done!\n"
     ]
    },
    {
     "name": "stderr",
     "output_type": "stream",
     "text": [
      "\n",
      "4423680it [00:31, 405597.36it/s]"
     ]
    }
   ],
   "source": [
    "# Define a transform to normalize the data\n",
    "transform = transforms.Compose([transforms.ToTensor(),\n",
    "                                transforms.Normalize((0.5,), (0.5,))])\n",
    "# Download and load the training data\n",
    "trainset = datasets.FashionMNIST('~/.pytorch/F_MNIST_data/', download=True, train=True, transform=transform)\n",
    "trainloader = torch.utils.data.DataLoader(trainset, batch_size=64, shuffle=True)\n",
    "\n",
    "# Download and load the test data\n",
    "testset = datasets.FashionMNIST('~/.pytorch/F_MNIST_data/', download=True, train=False, transform=transform)\n",
    "testloader = torch.utils.data.DataLoader(testset, batch_size=64, shuffle=True)"
   ]
  },
  {
   "cell_type": "markdown",
   "metadata": {},
   "source": [
    "Here we can see one of the images."
   ]
  },
  {
   "cell_type": "code",
   "execution_count": 3,
   "metadata": {},
   "outputs": [
    {
     "data": {
      "image/png": "[encoded data removed]",
      "text/plain": [
       "<Figure size 432x288 with 1 Axes>"
      ]
     },
     "metadata": {
      "image/png": {
       "height": 233,
       "width": 233
      },
      "needs_background": "light"
     },
     "output_type": "display_data"
    }
   ],
   "source": [
    "image, label = next(iter(trainloader))\n",
    "helper.imshow(image[0,:]);"
   ]
  },
  {
   "cell_type": "markdown",
   "metadata": {},
   "source": [
    "# Train a network\n",
    "\n",
    "To make things more concise here, I moved the model architecture and training code from the last part to a file called `fc_model`. Importing this, we can easily create a fully-connected network with `fc_model.Network`, and train the network using `fc_model.train`. I'll use this model (once it's trained) to demonstrate how we can save and load models."
   ]
  },
  {
   "cell_type": "code",
   "execution_count": 4,
   "metadata": {},
   "outputs": [],
   "source": [
    "# Create the network, define the criterion and optimizer\n",
    "\n",
    "model = fc_model.Network(784, 10, [512, 256, 128])\n",
    "criterion = nn.NLLLoss()\n",
    "optimizer = optim.Adam(model.parameters(), lr=0.001)"
   ]
  },
  {
   "cell_type": "code",
   "execution_count": 5,
   "metadata": {},
   "outputs": [
    {
     "name": "stdout",
     "output_type": "stream",
     "text": [
      "Epoch: 1/2..  Training Loss: 1.681..  Test Loss: 1.003..  Test Accuracy: 0.618\n",
      "Epoch: 1/2..  Training Loss: 1.045..  Test Loss: 0.762..  Test Accuracy: 0.716\n",
      "Epoch: 1/2..  Training Loss: 0.885..  Test Loss: 0.672..  Test Accuracy: 0.747\n",
      "Epoch: 1/2..  Training Loss: 0.766..  Test Loss: 0.653..  Test Accuracy: 0.749\n",
      "Epoch: 1/2..  Training Loss: 0.787..  Test Loss: 0.624..  Test Accuracy: 0.742\n",
      "Epoch: 1/2..  Training Loss: 0.728..  Test Loss: 0.593..  Test Accuracy: 0.769\n",
      "Epoch: 1/2..  Training Loss: 0.717..  Test Loss: 0.575..  Test Accuracy: 0.781\n",
      "Epoch: 1/2..  Training Loss: 0.658..  Test Loss: 0.579..  Test Accuracy: 0.777\n",
      "Epoch: 1/2..  Training Loss: 0.677..  Test Loss: 0.588..  Test Accuracy: 0.780\n",
      "Epoch: 1/2..  Training Loss: 0.619..  Test Loss: 0.559..  Test Accuracy: 0.786\n",
      "Epoch: 1/2..  Training Loss: 0.638..  Test Loss: 0.566..  Test Accuracy: 0.790\n",
      "Epoch: 1/2..  Training Loss: 0.641..  Test Loss: 0.604..  Test Accuracy: 0.778\n",
      "Epoch: 1/2..  Training Loss: 0.622..  Test Loss: 0.537..  Test Accuracy: 0.802\n",
      "Epoch: 1/2..  Training Loss: 0.607..  Test Loss: 0.539..  Test Accuracy: 0.803\n",
      "Epoch: 1/2..  Training Loss: 0.556..  Test Loss: 0.498..  Test Accuracy: 0.820\n",
      "Epoch: 1/2..  Training Loss: 0.581..  Test Loss: 0.518..  Test Accuracy: 0.815\n",
      "Epoch: 1/2..  Training Loss: 0.619..  Test Loss: 0.503..  Test Accuracy: 0.814\n",
      "Epoch: 1/2..  Training Loss: 0.595..  Test Loss: 0.513..  Test Accuracy: 0.809\n",
      "Epoch: 1/2..  Training Loss: 0.594..  Test Loss: 0.509..  Test Accuracy: 0.811\n",
      "Epoch: 1/2..  Training Loss: 0.607..  Test Loss: 0.532..  Test Accuracy: 0.795\n",
      "Epoch: 1/2..  Training Loss: 0.594..  Test Loss: 0.498..  Test Accuracy: 0.821\n",
      "Epoch: 1/2..  Training Loss: 0.586..  Test Loss: 0.509..  Test Accuracy: 0.817\n",
      "Epoch: 1/2..  Training Loss: 0.543..  Test Loss: 0.479..  Test Accuracy: 0.825\n",
      "Epoch: 2/2..  Training Loss: 0.559..  Test Loss: 0.475..  Test Accuracy: 0.826\n",
      "Epoch: 2/2..  Training Loss: 0.554..  Test Loss: 0.473..  Test Accuracy: 0.827\n",
      "Epoch: 2/2..  Training Loss: 0.522..  Test Loss: 0.480..  Test Accuracy: 0.824\n",
      "Epoch: 2/2..  Training Loss: 0.538..  Test Loss: 0.496..  Test Accuracy: 0.824\n",
      "Epoch: 2/2..  Training Loss: 0.528..  Test Loss: 0.464..  Test Accuracy: 0.829\n",
      "Epoch: 2/2..  Training Loss: 0.557..  Test Loss: 0.465..  Test Accuracy: 0.830\n",
      "Epoch: 2/2..  Training Loss: 0.544..  Test Loss: 0.469..  Test Accuracy: 0.829\n",
      "Epoch: 2/2..  Training Loss: 0.541..  Test Loss: 0.472..  Test Accuracy: 0.826\n",
      "Epoch: 2/2..  Training Loss: 0.549..  Test Loss: 0.462..  Test Accuracy: 0.830\n",
      "Epoch: 2/2..  Training Loss: 0.509..  Test Loss: 0.472..  Test Accuracy: 0.827\n",
      "Epoch: 2/2..  Training Loss: 0.534..  Test Loss: 0.456..  Test Accuracy: 0.829\n",
      "Epoch: 2/2..  Training Loss: 0.509..  Test Loss: 0.460..  Test Accuracy: 0.833\n",
      "Epoch: 2/2..  Training Loss: 0.536..  Test Loss: 0.456..  Test Accuracy: 0.833\n",
      "Epoch: 2/2..  Training Loss: 0.534..  Test Loss: 0.470..  Test Accuracy: 0.831\n",
      "Epoch: 2/2..  Training Loss: 0.531..  Test Loss: 0.445..  Test Accuracy: 0.839\n",
      "Epoch: 2/2..  Training Loss: 0.509..  Test Loss: 0.448..  Test Accuracy: 0.836\n",
      "Epoch: 2/2..  Training Loss: 0.549..  Test Loss: 0.447..  Test Accuracy: 0.838\n",
      "Epoch: 2/2..  Training Loss: 0.526..  Test Loss: 0.453..  Test Accuracy: 0.834\n",
      "Epoch: 2/2..  Training Loss: 0.512..  Test Loss: 0.454..  Test Accuracy: 0.832\n",
      "Epoch: 2/2..  Training Loss: 0.541..  Test Loss: 0.465..  Test Accuracy: 0.828\n",
      "Epoch: 2/2..  Training Loss: 0.507..  Test Loss: 0.455..  Test Accuracy: 0.829\n",
      "Epoch: 2/2..  Training Loss: 0.520..  Test Loss: 0.448..  Test Accuracy: 0.835\n",
      "Epoch: 2/2..  Training Loss: 0.515..  Test Loss: 0.443..  Test Accuracy: 0.841\n"
     ]
    }
   ],
   "source": [
    "fc_model.train(model, trainloader, testloader, criterion, optimizer, epochs=2)"
   ]
  },
  {
   "cell_type": "markdown",
   "metadata": {},
   "source": [
    "## Saving and loading networks\n",
    "\n",
    "As you can imagine, it's impractical to train a network every time you need to use it. Instead, we can save trained networks then load them later to train more or use them for predictions.\n",
    "\n",
    "The parameters for PyTorch networks are stored in a model's `state_dict`. We can see the state dict contains the weight and bias matrices for each of our layers."
   ]
  },
  {
   "cell_type": "code",
   "execution_count": 7,
   "metadata": {},
   "outputs": [
    {
     "name": "stdout",
     "output_type": "stream",
     "text": [
      "Our model: \n",
      "\n",
      " Network(\n",
      "  (hidden_layers): ModuleList(\n",
      "    (0): Linear(in_features=784, out_features=512, bias=True)\n",
      "    (1): Linear(in_features=512, out_features=256, bias=True)\n",
      "    (2): Linear(in_features=256, out_features=128, bias=True)\n",
      "  )\n",
      "  (output): Linear(in_features=128, out_features=10, bias=True)\n",
      "  (dropout): Dropout(p=0.5)\n",
      ") \n",
      "\n",
      "The state dict keys: \n",
      "\n",
      " odict_keys(['hidden_layers.0.weight', 'hidden_layers.0.bias', 'hidden_layers.1.weight', 'hidden_layers.1.bias', 'hidden_layers.2.weight', 'hidden_layers.2.bias', 'output.weight', 'output.bias'])\n"
     ]
    }
   ],
   "source": [
    "print(\"Our model: \\n\\n\", model, '\\n')\n",
    "print(\"The state dict keys: \\n\\n\", model.state_dict().keys())"
   ]
  },
  {
   "cell_type": "markdown",
   "metadata": {},
   "source": [
    "The simplest thing to do is simply save the state dict with `torch.save`. For example, we can save it to a file `'checkpoint.pth'`."
   ]
  },
  {
   "cell_type": "code",
   "execution_count": 8,
   "metadata": {},
   "outputs": [],
   "source": [
    "torch.save(model.state_dict(), 'checkpoint.pth')"
   ]
  },
  {
   "cell_type": "markdown",
   "metadata": {},
   "source": [
    "Then we can load the state dict with `torch.load`."
   ]
  },
  {
   "cell_type": "code",
   "execution_count": 9,
   "metadata": {},
   "outputs": [
    {
     "name": "stdout",
     "output_type": "stream",
     "text": [
      "odict_keys(['hidden_layers.0.weight', 'hidden_layers.0.bias', 'hidden_layers.1.weight', 'hidden_layers.1.bias', 'hidden_layers.2.weight', 'hidden_layers.2.bias', 'output.weight', 'output.bias'])\n"
     ]
    }
   ],
   "source": [
    "state_dict = torch.load('checkpoint.pth')\n",
    "print(state_dict.keys())"
   ]
  },
  {
   "cell_type": "markdown",
   "metadata": {},
   "source": [
    "And to load the state dict in to the network, you do `model.load_state_dict(state_dict)`."
   ]
  },
  {
   "cell_type": "code",
   "execution_count": 10,
   "metadata": {},
   "outputs": [
    {
     "data": {
      "text/plain": [
       "IncompatibleKeys(missing_keys=[], unexpected_keys=[])"
      ]
     },
     "execution_count": 10,
     "metadata": {},
     "output_type": "execute_result"
    }
   ],
   "source": [
    "model.load_state_dict(state_dict)"
   ]
  },
  {
   "cell_type": "markdown",
   "metadata": {},
   "source": [
    "Seems pretty straightforward, but as usual it's a bit more complicated. Loading the state dict works only if the model architecture is exactly the same as the checkpoint architecture. If I create a model with a different architecture, this fails."
   ]
  },
  {
   "cell_type": "code",
   "execution_count": 11,
   "metadata": {},
   "outputs": [
    {
     "ename": "RuntimeError",
     "evalue": "Error(s) in loading state_dict for Network:\n\tsize mismatch for hidden_layers.0.weight: copying a param with shape torch.Size([512, 784]) from checkpoint, the shape in current model is torch.Size([400, 784]).\n\tsize mismatch for hidden_layers.0.bias: copying a param with shape torch.Size([512]) from checkpoint, the shape in current model is torch.Size([400]).\n\tsize mismatch for hidden_layers.1.weight: copying a param with shape torch.Size([256, 512]) from checkpoint, the shape in current model is torch.Size([200, 400]).\n\tsize mismatch for hidden_layers.1.bias: copying a param with shape torch.Size([256]) from checkpoint, the shape in current model is torch.Size([200]).\n\tsize mismatch for hidden_layers.2.weight: copying a param with shape torch.Size([128, 256]) from checkpoint, the shape in current model is torch.Size([100, 200]).\n\tsize mismatch for hidden_layers.2.bias: copying a param with shape torch.Size([128]) from checkpoint, the shape in current model is torch.Size([100]).\n\tsize mismatch for output.weight: copying a param with shape torch.Size([10, 128]) from checkpoint, the shape in current model is torch.Size([10, 100]).",
     "output_type": "error",
     "traceback": [
      "\u001b[1;31m---------------------------------------------------------------------------\u001b[0m",
      "\u001b[1;31mRuntimeError\u001b[0m                              Traceback (most recent call last)",
      "\u001b[1;32m<ipython-input-11-d859c59ebec0>\u001b[0m in \u001b[0;36m<module>\u001b[1;34m\u001b[0m\n\u001b[0;32m      2\u001b[0m \u001b[0mmodel\u001b[0m \u001b[1;33m=\u001b[0m \u001b[0mfc_model\u001b[0m\u001b[1;33m.\u001b[0m\u001b[0mNetwork\u001b[0m\u001b[1;33m(\u001b[0m\u001b[1;36m784\u001b[0m\u001b[1;33m,\u001b[0m \u001b[1;36m10\u001b[0m\u001b[1;33m,\u001b[0m \u001b[1;33m[\u001b[0m\u001b[1;36m400\u001b[0m\u001b[1;33m,\u001b[0m \u001b[1;36m200\u001b[0m\u001b[1;33m,\u001b[0m \u001b[1;36m100\u001b[0m\u001b[1;33m]\u001b[0m\u001b[1;33m)\u001b[0m\u001b[1;33m\u001b[0m\u001b[1;33m\u001b[0m\u001b[0m\n\u001b[0;32m      3\u001b[0m \u001b[1;31m# This will throw an error because the tensor sizes are wrong!\u001b[0m\u001b[1;33m\u001b[0m\u001b[1;33m\u001b[0m\u001b[1;33m\u001b[0m\u001b[0m\n\u001b[1;32m----> 4\u001b[1;33m \u001b[0mmodel\u001b[0m\u001b[1;33m.\u001b[0m\u001b[0mload_state_dict\u001b[0m\u001b[1;33m(\u001b[0m\u001b[0mstate_dict\u001b[0m\u001b[1;33m)\u001b[0m\u001b[1;33m\u001b[0m\u001b[1;33m\u001b[0m\u001b[0m\n\u001b[0m",
      "\u001b[1;32m~\\Anaconda3\\lib\\site-packages\\torch\\nn\\modules\\module.py\u001b[0m in \u001b[0;36mload_state_dict\u001b[1;34m(self, state_dict, strict)\u001b[0m\n\u001b[0;32m    775\u001b[0m         \u001b[1;32mif\u001b[0m \u001b[0mlen\u001b[0m\u001b[1;33m(\u001b[0m\u001b[0merror_msgs\u001b[0m\u001b[1;33m)\u001b[0m \u001b[1;33m>\u001b[0m \u001b[1;36m0\u001b[0m\u001b[1;33m:\u001b[0m\u001b[1;33m\u001b[0m\u001b[1;33m\u001b[0m\u001b[0m\n\u001b[0;32m    776\u001b[0m             raise RuntimeError('Error(s) in loading state_dict for {}:\\n\\t{}'.format(\n\u001b[1;32m--> 777\u001b[1;33m                                self.__class__.__name__, \"\\n\\t\".join(error_msgs)))\n\u001b[0m\u001b[0;32m    778\u001b[0m         \u001b[1;32mreturn\u001b[0m \u001b[0m_IncompatibleKeys\u001b[0m\u001b[1;33m(\u001b[0m\u001b[0mmissing_keys\u001b[0m\u001b[1;33m,\u001b[0m \u001b[0munexpected_keys\u001b[0m\u001b[1;33m)\u001b[0m\u001b[1;33m\u001b[0m\u001b[1;33m\u001b[0m\u001b[0m\n\u001b[0;32m    779\u001b[0m \u001b[1;33m\u001b[0m\u001b[0m\n",
      "\u001b[1;31mRuntimeError\u001b[0m: Error(s) in loading state_dict for Network:\n\tsize mismatch for hidden_layers.0.weight: copying a param with shape torch.Size([512, 784]) from checkpoint, the shape in current model is torch.Size([400, 784]).\n\tsize mismatch for hidden_layers.0.bias: copying a param with shape torch.Size([512]) from checkpoint, the shape in current model is torch.Size([400]).\n\tsize mismatch for hidden_layers.1.weight: copying a param with shape torch.Size([256, 512]) from checkpoint, the shape in current model is torch.Size([200, 400]).\n\tsize mismatch for hidden_layers.1.bias: copying a param with shape torch.Size([256]) from checkpoint, the shape in current model is torch.Size([200]).\n\tsize mismatch for hidden_layers.2.weight: copying a param with shape torch.Size([128, 256]) from checkpoint, the shape in current model is torch.Size([100, 200]).\n\tsize mismatch for hidden_layers.2.bias: copying a param with shape torch.Size([128]) from checkpoint, the shape in current model is torch.Size([100]).\n\tsize mismatch for output.weight: copying a param with shape torch.Size([10, 128]) from checkpoint, the shape in current model is torch.Size([10, 100])."
     ]
    }
   ],
   "source": [
    "# Try this\n",
    "model = fc_model.Network(784, 10, [400, 200, 100])\n",
    "# This will throw an error because the tensor sizes are wrong!\n",
    "model.load_state_dict(state_dict)"
   ]
  },
  {
   "cell_type": "markdown",
   "metadata": {},
   "source": [
    "This means we need to rebuild the model exactly as it was when trained. Information about the model architecture needs to be saved in the checkpoint, along with the state dict. To do this, you build a dictionary with all the information you need to compeletely rebuild the model."
   ]
  },
  {
   "cell_type": "code",
   "execution_count": 12,
   "metadata": {},
   "outputs": [],
   "source": [
    "checkpoint = {'input_size': 784,\n",
    "              'output_size': 10,\n",
    "              'hidden_layers': [each.out_features for each in model.hidden_layers],\n",
    "              'state_dict': model.state_dict()}\n",
    "\n",
    "torch.save(checkpoint, 'checkpoint.pth')"
   ]
  },
  {
   "cell_type": "markdown",
   "metadata": {},
   "source": [
    "Now the checkpoint has all the necessary information to rebuild the trained model. You can easily make that a function if you want. Similarly, we can write a function to load checkpoints. "
   ]
  },
  {
   "cell_type": "code",
   "execution_count": 13,
   "metadata": {},
   "outputs": [],
   "source": [
    "def load_checkpoint(filepath):\n",
    "    checkpoint = torch.load(filepath)\n",
    "    model = fc_model.Network(checkpoint['input_size'],\n",
    "                             checkpoint['output_size'],\n",
    "                             checkpoint['hidden_layers'])\n",
    "    model.load_state_dict(checkpoint['state_dict'])\n",
    "    \n",
    "    return model"
   ]
  },
  {
   "cell_type": "code",
   "execution_count": 14,
   "metadata": {},
   "outputs": [
    {
     "name": "stdout",
     "output_type": "stream",
     "text": [
      "Network(\n",
      "  (hidden_layers): ModuleList(\n",
      "    (0): Linear(in_features=784, out_features=400, bias=True)\n",
      "    (1): Linear(in_features=400, out_features=200, bias=True)\n",
      "    (2): Linear(in_features=200, out_features=100, bias=True)\n",
      "  )\n",
      "  (output): Linear(in_features=100, out_features=10, bias=True)\n",
      "  (dropout): Dropout(p=0.5)\n",
      ")\n"
     ]
    }
   ],
   "source": [
    "model = load_checkpoint('checkpoint.pth')\n",
    "print(model)"
   ]
  }
 ],
 "metadata": {
  "kernelspec": {
   "display_name": "Python 3",
   "language": "python",
   "name": "python3"
  },
  "language_info": {
   "codemirror_mode": {
    "name": "ipython",
    "version": 3
   },
   "file_extension": ".py",
   "mimetype": "text/x-python",
   "name": "python",
   "nbconvert_exporter": "python",
   "pygments_lexer": "ipython3",
   "version": "3.7.3"
  }
 },
 "nbformat": 4,
 "nbformat_minor": 2
}
